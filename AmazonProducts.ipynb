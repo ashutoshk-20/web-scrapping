{
 "cells": [
  {
   "cell_type": "code",
   "execution_count": 1,
   "id": "d0194f5a-f26b-4c52-a264-6866f855c57a",
   "metadata": {},
   "outputs": [],
   "source": [
    "import pandas as pd\n",
    "from selenium import webdriver\n",
    "from bs4 import BeautifulSoup\n",
    "import time\n",
    "from tqdm import tqdm"
   ]
  },
  {
   "cell_type": "code",
   "execution_count": 2,
   "id": "84e6af97",
   "metadata": {},
   "outputs": [],
   "source": [
    "driver = webdriver.Chrome()"
   ]
  },
  {
   "cell_type": "code",
   "execution_count": 13,
   "id": "311fcb61",
   "metadata": {},
   "outputs": [],
   "source": [
    "# driver.get(\"https://www.amazon.in/s?k=laptops&crid=1GBCI6Y23VKRI&sprefix=laptops%2Caps%2C198&ref=nb_sb_noss_2\")\n",
    "driver.get(\"https://www.amazon.in/s?k=mobiles&crid=8CTWKCJJG0BI&sprefix=mobiles%2Caps%2C247&ref=nb_sb_noss_2\")"
   ]
  },
  {
   "cell_type": "code",
   "execution_count": 14,
   "id": "25b290da",
   "metadata": {},
   "outputs": [],
   "source": [
    "html_data = BeautifulSoup(driver.page_source,\"html.parser\")"
   ]
  },
  {
   "cell_type": "code",
   "execution_count": 15,
   "id": "7037cad3",
   "metadata": {},
   "outputs": [],
   "source": [
    "no_of_pages = int(html_data.find(\"span\",{'class':'s-pagination-item s-pagination-disabled'}).text)"
   ]
  },
  {
   "cell_type": "code",
   "execution_count": 16,
   "id": "04fa04c7",
   "metadata": {},
   "outputs": [
    {
     "data": {
      "text/plain": [
       "20"
      ]
     },
     "execution_count": 16,
     "metadata": {},
     "output_type": "execute_result"
    }
   ],
   "source": [
    "no_of_pages"
   ]
  },
  {
   "cell_type": "code",
   "execution_count": 17,
   "id": "d0fdc8c4",
   "metadata": {},
   "outputs": [],
   "source": [
    "products = html_data.find_all(\"div\",{'data-component-type':'s-search-result'})"
   ]
  },
  {
   "cell_type": "code",
   "execution_count": 18,
   "id": "083fdfe6",
   "metadata": {},
   "outputs": [
    {
     "name": "stderr",
     "output_type": "stream",
     "text": [
      "100%|██████████| 20/20 [01:56<00:00,  5.85s/it]\n"
     ]
    }
   ],
   "source": [
    "titles = []\n",
    "images = []\n",
    "prices = []\n",
    "ratings = []\n",
    "urls = []\n",
    "\n",
    "for i in tqdm(range(no_of_pages)):\n",
    "    url = \"https://www.amazon.in/s?k=mobiles&crid=8CTWKCJJG0BI&sprefix=mobiles%2Caps%2C247&ref=nb_sb_noss_2\"+\"&page=\"+str(i+1)\n",
    "    driver.get(url)\n",
    "    time.sleep(3)\n",
    "    html_data = BeautifulSoup(driver.page_source,\"html.parser\")\n",
    "    products = html_data.find_all(\"div\",{'data-component-type':'s-search-result'})\n",
    "    for product in products:\n",
    "        title = product.h2.find(\"span\").text\n",
    "        titles.append(title)\n",
    "\n",
    "        img = product.find(\"img\",{'class':'s-image'})['src']\n",
    "        images.append(img)\n",
    "\n",
    "        rating = product.find('span',{'class':'a-icon-alt'})\n",
    "        if rating is not None:\n",
    "            rating = rating.text\n",
    "            rating = float(rating[0:4])\n",
    "        ratings.append(rating)\n",
    "\n",
    "        price = product.find('span',{'class':'a-price-whole'})\n",
    "        if price is not None:\n",
    "            price = '₹'+price.text\n",
    "        prices.append(price)\n",
    "\n",
    "        product_link = 'https://www.amazon.in'+ product.find('a',{'class':'a-link-normal s-line-clamp-2 s-link-style a-text-normal'})['href']\n",
    "        urls.append(product_link)"
   ]
  },
  {
   "cell_type": "code",
   "execution_count": 19,
   "id": "02fa59ee",
   "metadata": {},
   "outputs": [
    {
     "data": {
      "text/plain": [
       "417"
      ]
     },
     "execution_count": 19,
     "metadata": {},
     "output_type": "execute_result"
    }
   ],
   "source": [
    "len(titles)"
   ]
  },
  {
   "cell_type": "code",
   "execution_count": 20,
   "id": "986f89ee",
   "metadata": {},
   "outputs": [
    {
     "name": "stdout",
     "output_type": "stream",
     "text": [
      "417\n"
     ]
    }
   ],
   "source": [
    "print(len(prices))"
   ]
  },
  {
   "cell_type": "code",
   "execution_count": 21,
   "id": "631f5fe5",
   "metadata": {},
   "outputs": [],
   "source": [
    "data = pd.DataFrame({\n",
    "    'titles':titles,\n",
    "    'images':images,\n",
    "    'prices':prices,\n",
    "    'ratings':ratings,\n",
    "    'purls':urls\n",
    "})"
   ]
  },
  {
   "cell_type": "code",
   "execution_count": 22,
   "id": "f28df793",
   "metadata": {},
   "outputs": [
    {
     "data": {
      "text/html": [
       "<div>\n",
       "<style scoped>\n",
       "    .dataframe tbody tr th:only-of-type {\n",
       "        vertical-align: middle;\n",
       "    }\n",
       "\n",
       "    .dataframe tbody tr th {\n",
       "        vertical-align: top;\n",
       "    }\n",
       "\n",
       "    .dataframe thead th {\n",
       "        text-align: right;\n",
       "    }\n",
       "</style>\n",
       "<table border=\"1\" class=\"dataframe\">\n",
       "  <thead>\n",
       "    <tr style=\"text-align: right;\">\n",
       "      <th></th>\n",
       "      <th>titles</th>\n",
       "      <th>images</th>\n",
       "      <th>prices</th>\n",
       "      <th>ratings</th>\n",
       "      <th>purls</th>\n",
       "    </tr>\n",
       "  </thead>\n",
       "  <tbody>\n",
       "    <tr>\n",
       "      <th>0</th>\n",
       "      <td>Apple iPhone 15 Plus (256 GB) - Pink</td>\n",
       "      <td>https://m.media-amazon.com/images/I/71bErtQPC3...</td>\n",
       "      <td>₹82,900</td>\n",
       "      <td>4.6</td>\n",
       "      <td>https://www.amazon.in/sspa/click?ie=UTF8&amp;spc=M...</td>\n",
       "    </tr>\n",
       "    <tr>\n",
       "      <th>1</th>\n",
       "      <td>Apple iPhone 15 (256 GB) - Pink</td>\n",
       "      <td>https://m.media-amazon.com/images/I/71v2jVh6nI...</td>\n",
       "      <td>₹71,400</td>\n",
       "      <td>4.5</td>\n",
       "      <td>https://www.amazon.in/sspa/click?ie=UTF8&amp;spc=M...</td>\n",
       "    </tr>\n",
       "    <tr>\n",
       "      <th>2</th>\n",
       "      <td>Samsung Galaxy M05 (Mint Green, 4GB RAM, 64 GB...</td>\n",
       "      <td>https://m.media-amazon.com/images/I/81T3olLXpU...</td>\n",
       "      <td>₹6,498</td>\n",
       "      <td>4.0</td>\n",
       "      <td>https://www.amazon.in/Samsung-Storage-Display-...</td>\n",
       "    </tr>\n",
       "    <tr>\n",
       "      <th>3</th>\n",
       "      <td>Redmi A4 5G (Starry Black, 4GB RAM, 128GB Stor...</td>\n",
       "      <td>https://m.media-amazon.com/images/I/718HzJbvY1...</td>\n",
       "      <td>₹8,999</td>\n",
       "      <td>4.0</td>\n",
       "      <td>https://www.amazon.in/Redmi-A4-5G-Storage-Char...</td>\n",
       "    </tr>\n",
       "    <tr>\n",
       "      <th>4</th>\n",
       "      <td>realme NARZO N61 (Voyage Blue,6GB RAM+128GB St...</td>\n",
       "      <td>https://m.media-amazon.com/images/I/71r0Ysx+oV...</td>\n",
       "      <td>₹8,498</td>\n",
       "      <td>4.0</td>\n",
       "      <td>https://www.amazon.in/realme-Storage-Comfort-R...</td>\n",
       "    </tr>\n",
       "    <tr>\n",
       "      <th>...</th>\n",
       "      <td>...</td>\n",
       "      <td>...</td>\n",
       "      <td>...</td>\n",
       "      <td>...</td>\n",
       "      <td>...</td>\n",
       "    </tr>\n",
       "    <tr>\n",
       "      <th>412</th>\n",
       "      <td>iPhone 16 Plus 128 GB: 5G Mobile Phone with Ca...</td>\n",
       "      <td>https://m.media-amazon.com/images/I/711VzeHZAP...</td>\n",
       "      <td>₹82,900</td>\n",
       "      <td>4.5</td>\n",
       "      <td>https://www.amazon.in/sspa/click?ie=UTF8&amp;spc=M...</td>\n",
       "    </tr>\n",
       "    <tr>\n",
       "      <th>413</th>\n",
       "      <td>Redmi Note 13 Pro+ (Fusion Black, 12GB RAM, 25...</td>\n",
       "      <td>https://m.media-amazon.com/images/I/71nrf4zgq5...</td>\n",
       "      <td>₹26,499</td>\n",
       "      <td>4.0</td>\n",
       "      <td>https://www.amazon.in/Redmi-Fusion-Storage-Med...</td>\n",
       "    </tr>\n",
       "    <tr>\n",
       "      <th>414</th>\n",
       "      <td>Samsung Original 25W Type-C Travel Adaptor Wit...</td>\n",
       "      <td>https://m.media-amazon.com/images/I/512UVkoMME...</td>\n",
       "      <td>₹999</td>\n",
       "      <td>4.4</td>\n",
       "      <td>https://www.amazon.in/Samsung-Original-Type-C-...</td>\n",
       "    </tr>\n",
       "    <tr>\n",
       "      <th>415</th>\n",
       "      <td>iPhone 16 256 GB: 5G Mobile Phone with Camera ...</td>\n",
       "      <td>https://m.media-amazon.com/images/I/61zwK7mmLt...</td>\n",
       "      <td>₹82,900</td>\n",
       "      <td>4.4</td>\n",
       "      <td>https://www.amazon.in/sspa/click?ie=UTF8&amp;spc=M...</td>\n",
       "    </tr>\n",
       "    <tr>\n",
       "      <th>416</th>\n",
       "      <td>Apple iPhone 15 (128 GB) - Pink</td>\n",
       "      <td>https://m.media-amazon.com/images/I/71v2jVh6nI...</td>\n",
       "      <td>₹61,390</td>\n",
       "      <td>4.5</td>\n",
       "      <td>https://www.amazon.in/sspa/click?ie=UTF8&amp;spc=M...</td>\n",
       "    </tr>\n",
       "  </tbody>\n",
       "</table>\n",
       "<p>417 rows × 5 columns</p>\n",
       "</div>"
      ],
      "text/plain": [
       "                                                titles  \\\n",
       "0                 Apple iPhone 15 Plus (256 GB) - Pink   \n",
       "1                      Apple iPhone 15 (256 GB) - Pink   \n",
       "2    Samsung Galaxy M05 (Mint Green, 4GB RAM, 64 GB...   \n",
       "3    Redmi A4 5G (Starry Black, 4GB RAM, 128GB Stor...   \n",
       "4    realme NARZO N61 (Voyage Blue,6GB RAM+128GB St...   \n",
       "..                                                 ...   \n",
       "412  iPhone 16 Plus 128 GB: 5G Mobile Phone with Ca...   \n",
       "413  Redmi Note 13 Pro+ (Fusion Black, 12GB RAM, 25...   \n",
       "414  Samsung Original 25W Type-C Travel Adaptor Wit...   \n",
       "415  iPhone 16 256 GB: 5G Mobile Phone with Camera ...   \n",
       "416                    Apple iPhone 15 (128 GB) - Pink   \n",
       "\n",
       "                                                images   prices  ratings  \\\n",
       "0    https://m.media-amazon.com/images/I/71bErtQPC3...  ₹82,900      4.6   \n",
       "1    https://m.media-amazon.com/images/I/71v2jVh6nI...  ₹71,400      4.5   \n",
       "2    https://m.media-amazon.com/images/I/81T3olLXpU...   ₹6,498      4.0   \n",
       "3    https://m.media-amazon.com/images/I/718HzJbvY1...   ₹8,999      4.0   \n",
       "4    https://m.media-amazon.com/images/I/71r0Ysx+oV...   ₹8,498      4.0   \n",
       "..                                                 ...      ...      ...   \n",
       "412  https://m.media-amazon.com/images/I/711VzeHZAP...  ₹82,900      4.5   \n",
       "413  https://m.media-amazon.com/images/I/71nrf4zgq5...  ₹26,499      4.0   \n",
       "414  https://m.media-amazon.com/images/I/512UVkoMME...     ₹999      4.4   \n",
       "415  https://m.media-amazon.com/images/I/61zwK7mmLt...  ₹82,900      4.4   \n",
       "416  https://m.media-amazon.com/images/I/71v2jVh6nI...  ₹61,390      4.5   \n",
       "\n",
       "                                                 purls  \n",
       "0    https://www.amazon.in/sspa/click?ie=UTF8&spc=M...  \n",
       "1    https://www.amazon.in/sspa/click?ie=UTF8&spc=M...  \n",
       "2    https://www.amazon.in/Samsung-Storage-Display-...  \n",
       "3    https://www.amazon.in/Redmi-A4-5G-Storage-Char...  \n",
       "4    https://www.amazon.in/realme-Storage-Comfort-R...  \n",
       "..                                                 ...  \n",
       "412  https://www.amazon.in/sspa/click?ie=UTF8&spc=M...  \n",
       "413  https://www.amazon.in/Redmi-Fusion-Storage-Med...  \n",
       "414  https://www.amazon.in/Samsung-Original-Type-C-...  \n",
       "415  https://www.amazon.in/sspa/click?ie=UTF8&spc=M...  \n",
       "416  https://www.amazon.in/sspa/click?ie=UTF8&spc=M...  \n",
       "\n",
       "[417 rows x 5 columns]"
      ]
     },
     "execution_count": 22,
     "metadata": {},
     "output_type": "execute_result"
    }
   ],
   "source": [
    "data"
   ]
  },
  {
   "cell_type": "code",
   "execution_count": null,
   "id": "84ca2041",
   "metadata": {},
   "outputs": [
    {
     "data": {
      "text/html": [
       "<div>\n",
       "<style scoped>\n",
       "    .dataframe tbody tr th:only-of-type {\n",
       "        vertical-align: middle;\n",
       "    }\n",
       "\n",
       "    .dataframe tbody tr th {\n",
       "        vertical-align: top;\n",
       "    }\n",
       "\n",
       "    .dataframe thead th {\n",
       "        text-align: right;\n",
       "    }\n",
       "</style>\n",
       "<table border=\"1\" class=\"dataframe\">\n",
       "  <thead>\n",
       "    <tr style=\"text-align: right;\">\n",
       "      <th></th>\n",
       "      <th>titles</th>\n",
       "      <th>images</th>\n",
       "      <th>prices</th>\n",
       "      <th>ratings</th>\n",
       "      <th>purls</th>\n",
       "    </tr>\n",
       "  </thead>\n",
       "  <tbody>\n",
       "    <tr>\n",
       "      <th>0</th>\n",
       "      <td>Apple iPhone 15 Plus (256 GB) - Pink</td>\n",
       "      <td>https://m.media-amazon.com/images/I/71bErtQPC3...</td>\n",
       "      <td>₹82,900</td>\n",
       "      <td>4.6</td>\n",
       "      <td>https://www.amazon.in/sspa/click?ie=UTF8&amp;spc=M...</td>\n",
       "    </tr>\n",
       "    <tr>\n",
       "      <th>1</th>\n",
       "      <td>Apple iPhone 15 (256 GB) - Pink</td>\n",
       "      <td>https://m.media-amazon.com/images/I/71v2jVh6nI...</td>\n",
       "      <td>₹71,400</td>\n",
       "      <td>4.5</td>\n",
       "      <td>https://www.amazon.in/sspa/click?ie=UTF8&amp;spc=M...</td>\n",
       "    </tr>\n",
       "    <tr>\n",
       "      <th>2</th>\n",
       "      <td>Samsung Galaxy M05 (Mint Green, 4GB RAM, 64 GB...</td>\n",
       "      <td>https://m.media-amazon.com/images/I/81T3olLXpU...</td>\n",
       "      <td>₹6,498</td>\n",
       "      <td>4.0</td>\n",
       "      <td>https://www.amazon.in/Samsung-Storage-Display-...</td>\n",
       "    </tr>\n",
       "    <tr>\n",
       "      <th>3</th>\n",
       "      <td>Redmi A4 5G (Starry Black, 4GB RAM, 128GB Stor...</td>\n",
       "      <td>https://m.media-amazon.com/images/I/718HzJbvY1...</td>\n",
       "      <td>₹8,999</td>\n",
       "      <td>4.0</td>\n",
       "      <td>https://www.amazon.in/Redmi-A4-5G-Storage-Char...</td>\n",
       "    </tr>\n",
       "    <tr>\n",
       "      <th>4</th>\n",
       "      <td>realme NARZO N61 (Voyage Blue,6GB RAM+128GB St...</td>\n",
       "      <td>https://m.media-amazon.com/images/I/71r0Ysx+oV...</td>\n",
       "      <td>₹8,498</td>\n",
       "      <td>4.0</td>\n",
       "      <td>https://www.amazon.in/realme-Storage-Comfort-R...</td>\n",
       "    </tr>\n",
       "    <tr>\n",
       "      <th>...</th>\n",
       "      <td>...</td>\n",
       "      <td>...</td>\n",
       "      <td>...</td>\n",
       "      <td>...</td>\n",
       "      <td>...</td>\n",
       "    </tr>\n",
       "    <tr>\n",
       "      <th>412</th>\n",
       "      <td>iPhone 16 Plus 128 GB: 5G Mobile Phone with Ca...</td>\n",
       "      <td>https://m.media-amazon.com/images/I/711VzeHZAP...</td>\n",
       "      <td>₹82,900</td>\n",
       "      <td>4.5</td>\n",
       "      <td>https://www.amazon.in/sspa/click?ie=UTF8&amp;spc=M...</td>\n",
       "    </tr>\n",
       "    <tr>\n",
       "      <th>413</th>\n",
       "      <td>Redmi Note 13 Pro+ (Fusion Black, 12GB RAM, 25...</td>\n",
       "      <td>https://m.media-amazon.com/images/I/71nrf4zgq5...</td>\n",
       "      <td>₹26,499</td>\n",
       "      <td>4.0</td>\n",
       "      <td>https://www.amazon.in/Redmi-Fusion-Storage-Med...</td>\n",
       "    </tr>\n",
       "    <tr>\n",
       "      <th>414</th>\n",
       "      <td>Samsung Original 25W Type-C Travel Adaptor Wit...</td>\n",
       "      <td>https://m.media-amazon.com/images/I/512UVkoMME...</td>\n",
       "      <td>₹999</td>\n",
       "      <td>4.4</td>\n",
       "      <td>https://www.amazon.in/Samsung-Original-Type-C-...</td>\n",
       "    </tr>\n",
       "    <tr>\n",
       "      <th>415</th>\n",
       "      <td>iPhone 16 256 GB: 5G Mobile Phone with Camera ...</td>\n",
       "      <td>https://m.media-amazon.com/images/I/61zwK7mmLt...</td>\n",
       "      <td>₹82,900</td>\n",
       "      <td>4.4</td>\n",
       "      <td>https://www.amazon.in/sspa/click?ie=UTF8&amp;spc=M...</td>\n",
       "    </tr>\n",
       "    <tr>\n",
       "      <th>416</th>\n",
       "      <td>Apple iPhone 15 (128 GB) - Pink</td>\n",
       "      <td>https://m.media-amazon.com/images/I/71v2jVh6nI...</td>\n",
       "      <td>₹61,390</td>\n",
       "      <td>4.5</td>\n",
       "      <td>https://www.amazon.in/sspa/click?ie=UTF8&amp;spc=M...</td>\n",
       "    </tr>\n",
       "  </tbody>\n",
       "</table>\n",
       "<p>417 rows × 5 columns</p>\n",
       "</div>"
      ],
      "text/plain": [
       "                                                titles  \\\n",
       "0                 Apple iPhone 15 Plus (256 GB) - Pink   \n",
       "1                      Apple iPhone 15 (256 GB) - Pink   \n",
       "2    Samsung Galaxy M05 (Mint Green, 4GB RAM, 64 GB...   \n",
       "3    Redmi A4 5G (Starry Black, 4GB RAM, 128GB Stor...   \n",
       "4    realme NARZO N61 (Voyage Blue,6GB RAM+128GB St...   \n",
       "..                                                 ...   \n",
       "412  iPhone 16 Plus 128 GB: 5G Mobile Phone with Ca...   \n",
       "413  Redmi Note 13 Pro+ (Fusion Black, 12GB RAM, 25...   \n",
       "414  Samsung Original 25W Type-C Travel Adaptor Wit...   \n",
       "415  iPhone 16 256 GB: 5G Mobile Phone with Camera ...   \n",
       "416                    Apple iPhone 15 (128 GB) - Pink   \n",
       "\n",
       "                                                images   prices  ratings  \\\n",
       "0    https://m.media-amazon.com/images/I/71bErtQPC3...  ₹82,900      4.6   \n",
       "1    https://m.media-amazon.com/images/I/71v2jVh6nI...  ₹71,400      4.5   \n",
       "2    https://m.media-amazon.com/images/I/81T3olLXpU...   ₹6,498      4.0   \n",
       "3    https://m.media-amazon.com/images/I/718HzJbvY1...   ₹8,999      4.0   \n",
       "4    https://m.media-amazon.com/images/I/71r0Ysx+oV...   ₹8,498      4.0   \n",
       "..                                                 ...      ...      ...   \n",
       "412  https://m.media-amazon.com/images/I/711VzeHZAP...  ₹82,900      4.5   \n",
       "413  https://m.media-amazon.com/images/I/71nrf4zgq5...  ₹26,499      4.0   \n",
       "414  https://m.media-amazon.com/images/I/512UVkoMME...     ₹999      4.4   \n",
       "415  https://m.media-amazon.com/images/I/61zwK7mmLt...  ₹82,900      4.4   \n",
       "416  https://m.media-amazon.com/images/I/71v2jVh6nI...  ₹61,390      4.5   \n",
       "\n",
       "                                                 purls  \n",
       "0    https://www.amazon.in/sspa/click?ie=UTF8&spc=M...  \n",
       "1    https://www.amazon.in/sspa/click?ie=UTF8&spc=M...  \n",
       "2    https://www.amazon.in/Samsung-Storage-Display-...  \n",
       "3    https://www.amazon.in/Redmi-A4-5G-Storage-Char...  \n",
       "4    https://www.amazon.in/realme-Storage-Comfort-R...  \n",
       "..                                                 ...  \n",
       "412  https://www.amazon.in/sspa/click?ie=UTF8&spc=M...  \n",
       "413  https://www.amazon.in/Redmi-Fusion-Storage-Med...  \n",
       "414  https://www.amazon.in/Samsung-Original-Type-C-...  \n",
       "415  https://www.amazon.in/sspa/click?ie=UTF8&spc=M...  \n",
       "416  https://www.amazon.in/sspa/click?ie=UTF8&spc=M...  \n",
       "\n",
       "[417 rows x 5 columns]"
      ]
     },
     "metadata": {},
     "output_type": "display_data"
    }
   ],
   "source": [
    "data"
   ]
  },
  {
   "cell_type": "code",
   "execution_count": 23,
   "id": "20b20acb",
   "metadata": {},
   "outputs": [],
   "source": [
    "data.to_csv('amazon_mobiles.csv',index=False)"
   ]
  },
  {
   "cell_type": "code",
   "execution_count": null,
   "id": "582d002a",
   "metadata": {},
   "outputs": [],
   "source": []
  }
 ],
 "metadata": {
  "kernelspec": {
   "display_name": "venv",
   "language": "python",
   "name": "python3"
  },
  "language_info": {
   "codemirror_mode": {
    "name": "ipython",
    "version": 3
   },
   "file_extension": ".py",
   "mimetype": "text/x-python",
   "name": "python",
   "nbconvert_exporter": "python",
   "pygments_lexer": "ipython3",
   "version": "3.12.8"
  }
 },
 "nbformat": 4,
 "nbformat_minor": 5
}
